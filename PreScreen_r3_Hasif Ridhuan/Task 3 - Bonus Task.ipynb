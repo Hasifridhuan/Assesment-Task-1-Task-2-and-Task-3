{
 "cells": [
  {
   "cell_type": "code",
   "execution_count": 2,
   "id": "a8b0f7e9",
   "metadata": {},
   "outputs": [],
   "source": [
    "import re\n",
    "from collections import Counter\n",
    "import pandas as pd\n",
    "import nltk \n",
    "from sklearn.feature_extraction.text import CountVectorizer, TfidfVectorizer \n",
    "from nltk.corpus import stopwords \n",
    "from nltk.tokenize import word_tokenize "
   ]
  },
  {
   "cell_type": "code",
   "execution_count": 25,
   "id": "395922ce",
   "metadata": {},
   "outputs": [
    {
     "name": "stdout",
     "output_type": "stream",
     "text": [
      "As a term, data analytics predominantly refers to an assortment of applications, from basic \n",
      "business intelligence (BI), reporting and online analytical processing (OLAP) to various forms of \n",
      "advanced analytics. In that sense, it's similar in nature to business analytics, another umbrella \n",
      "term for approaches to analyzing data -- with the difference that the latter is oriented to \n",
      "business uses, while data analytics has a broader focus. The expansive view of the term isn't \n",
      "universal, though: In some cases, people use data analytics specifically to mean advanced \n",
      "analytics, treating BI as a separate category. Data analytics initiatives can help businesses \n",
      "increase revenues, improve operational efficiency, optimize marketing campaigns and customer \n",
      "service efforts, respond more quickly to emerging market trends and gain a competitive edge \n",
      "over rivals -- all with the ultimate goal of boosting business performance. Depending on the \n",
      "particular application, the data that's analyzed can consist of either historical records or new \n",
      "information that has been processed for real-time analytics uses. In addition, it can come from a \n",
      "mix of internal systems and external data sources. At a high level, data analytics methodologies \n",
      "include exploratory data analysis (EDA), which aims to find patterns and relationships in data, \n",
      "and confirmatory data analysis (CDA), which applies statistical techniques to determine whether \n",
      "hypotheses about a data set are true or false. EDA is often compared to detective work, while \n",
      "CDA is akin to the work of a judge or jury during a court trial -- a distinction first drawn by \n",
      "statistician John W. Tukey in his 1977 book Exploratory Data Analysis. Data analytics can also \n",
      "be separated into quantitative data analysis and qualitative data analysis. The former involves \n",
      "analysis of numerical data with quantifiable variables that can be compared or measured \n",
      "statistically. The qualitative approach is more interpretive -- it focuses on understanding the \n",
      "content of non-numerical data like text, images, audio and video, including common phrases, \n",
      "themes and points of view.\n"
     ]
    }
   ],
   "source": [
    "text = \"\"\"As a term, data analytics predominantly refers to an assortment of applications, from basic \\nbusiness intelligence (BI), reporting and online analytical processing (OLAP) to various forms of \\nadvanced analytics. In that sense, it's similar in nature to business analytics, another umbrella \\nterm for approaches to analyzing data -- with the difference that the latter is oriented to \\nbusiness uses, while data analytics has a broader focus. The expansive view of the term isn't \\nuniversal, though: In some cases, people use data analytics specifically to mean advanced \\nanalytics, treating BI as a separate category. Data analytics initiatives can help businesses \\nincrease revenues, improve operational efficiency, optimize marketing campaigns and customer \\nservice efforts, respond more quickly to emerging market trends and gain a competitive edge \\nover rivals -- all with the ultimate goal of boosting business performance. Depending on the \\nparticular application, the data that's analyzed can consist of either historical records or new \\ninformation that has been processed for real-time analytics uses. In addition, it can come from a \\nmix of internal systems and external data sources. At a high level, data analytics methodologies \\ninclude exploratory data analysis (EDA), which aims to find patterns and relationships in data, \\nand confirmatory data analysis (CDA), which applies statistical techniques to determine whether \\nhypotheses about a data set are true or false. EDA is often compared to detective work, while \\nCDA is akin to the work of a judge or jury during a court trial -- a distinction first drawn by \\nstatistician John W. Tukey in his 1977 book Exploratory Data Analysis. Data analytics can also \\nbe separated into quantitative data analysis and qualitative data analysis. The former involves \\nanalysis of numerical data with quantifiable variables that can be compared or measured \\nstatistically. The qualitative approach is more interpretive -- it focuses on understanding the \\ncontent of non-numerical data like text, images, audio and video, including common phrases, \\nthemes and points of view.\"\"\"\n",
    "print(text)"
   ]
  },
  {
   "cell_type": "code",
   "execution_count": 28,
   "id": "6d4fe7ad",
   "metadata": {},
   "outputs": [
    {
     "name": "stdout",
     "output_type": "stream",
     "text": [
      "['as a term, data analytics predominantly refers to an assortment of applications, from basic ', 'business intelligence (bi), reporting and online analytical processing (olap) to various forms of ', \"advanced analytics. in that sense, it's similar in nature to business analytics, another umbrella \", 'term for approaches to analyzing data -- with the difference that the latter is oriented to ', \"business uses, while data analytics has a broader focus. the expansive view of the term isn't \", 'universal, though: in some cases, people use data analytics specifically to mean advanced ', 'analytics, treating bi as a separate category. data analytics initiatives can help businesses ', 'increase revenues, improve operational efficiency, optimize marketing campaigns and customer ', 'service efforts, respond more quickly to emerging market trends and gain a competitive edge ', 'over rivals -- all with the ultimate goal of boosting business performance. depending on the ', \"particular application, the data that's analyzed can consist of either historical records or new \", 'information that has been processed for real-time analytics uses. in addition, it can come from a ', 'mix of internal systems and external data sources. at a high level, data analytics methodologies ', 'include exploratory data analysis (eda), which aims to find patterns and relationships in data, ', 'and confirmatory data analysis (cda), which applies statistical techniques to determine whether ', 'hypotheses about a data set are true or false. eda is often compared to detective work, while ', 'cda is akin to the work of a judge or jury during a court trial -- a distinction first drawn by ', 'statistician john w. tukey in his 1977 book exploratory data analysis. data analytics can also ', 'be separated into quantitative data analysis and qualitative data analysis. the former involves ', 'analysis of numerical data with quantifiable variables that can be compared or measured ', 'statistically. the qualitative approach is more interpretive -- it focuses on understanding the ', 'content of non-numerical data like text, images, audio and video, including common phrases, ', 'themes and points of view.']\n"
     ]
    }
   ],
   "source": [
    "text = text.lower()\n",
    "linelst = given_string.splitlines()\n",
    "print(linelst)"
   ]
  },
  {
   "cell_type": "code",
   "execution_count": 30,
   "id": "b7e43cb9",
   "metadata": {},
   "outputs": [
    {
     "data": {
      "text/plain": [
       "23"
      ]
     },
     "execution_count": 30,
     "metadata": {},
     "output_type": "execute_result"
    }
   ],
   "source": [
    "number_of_lines = len(linelst)\n",
    "number_of_lines"
   ]
  },
  {
   "cell_type": "code",
   "execution_count": 34,
   "id": "8c727874",
   "metadata": {},
   "outputs": [
    {
     "data": {
      "text/plain": [
       "194"
      ]
     },
     "execution_count": 34,
     "metadata": {},
     "output_type": "execute_result"
    }
   ],
   "source": [
    "def token(st):\n",
    "    return re.compile('\\w+').findall(st)\n",
    "\n",
    "def returnword(st): \n",
    "    txt = tokenize(st.lower())\n",
    "    t = Counter(txt)           \n",
    "    d = Counter(''.join(txt))  \n",
    "    return (dict(t), dict(d)) \n",
    "\n",
    "def wordfrequency(st): \n",
    "    txt = tokenize(st.lower())\n",
    "    t = Counter(txt)           \n",
    "    d = Counter(''.join(txt)) \n",
    "    return (dict(t))    \n",
    "\n",
    "\n",
    "word = wordfrequency(text)\n",
    "words, letters = returnword(text)\n",
    "\n",
    "totalwords = sum(words.values())      \n",
    "totalLetters = sum(letters.values())  \n",
    "len(words)"
   ]
  },
  {
   "cell_type": "code",
   "execution_count": 35,
   "id": "be13f4e8",
   "metadata": {},
   "outputs": [
    {
     "data": {
      "text/plain": [
       "{'a': 10, 'data': 18, 'analytics': 10, 'to': 11, 'of': 10, 'and': 9, 'the': 11}"
      ]
     },
     "execution_count": 35,
     "metadata": {},
     "output_type": "execute_result"
    }
   ],
   "source": [
    "{k:v for (k,v) in word.items() if v>8 }"
   ]
  },
  {
   "cell_type": "code",
   "execution_count": 38,
   "id": "291fc94b",
   "metadata": {},
   "outputs": [
    {
     "name": "stdout",
     "output_type": "stream",
     "text": [
      "18\n",
      "10\n"
     ]
    }
   ],
   "source": [
    "numberdata = word['data']\n",
    "numberanalytics = word['analytics']\n",
    "print(numberdata)\n",
    "print(numberanalytics)"
   ]
  },
  {
   "cell_type": "code",
   "execution_count": 44,
   "id": "fa4a4ba5",
   "metadata": {},
   "outputs": [
    {
     "data": {
      "text/plain": [
       "0.783"
      ]
     },
     "execution_count": 44,
     "metadata": {},
     "output_type": "execute_result"
    }
   ],
   "source": [
    "prob_data = numberdata/number_of_lines\n",
    "round(prob_data,3)"
   ]
  },
  {
   "cell_type": "code",
   "execution_count": 43,
   "id": "94b6d035",
   "metadata": {},
   "outputs": [
    {
     "data": {
      "text/plain": [
       "0.056"
      ]
     },
     "execution_count": 43,
     "metadata": {},
     "output_type": "execute_result"
    }
   ],
   "source": [
    "probdata_text = data_count/sumWords\n",
    "round(probdata_text, 3)"
   ]
  },
  {
   "cell_type": "code",
   "execution_count": 50,
   "id": "f982ad0a",
   "metadata": {},
   "outputs": [
    {
     "data": {
      "text/plain": [
       "[14,\n",
       " 13,\n",
       " 13,\n",
       " 13,\n",
       " 16,\n",
       " 13,\n",
       " 12,\n",
       " 10,\n",
       " 14,\n",
       " 13,\n",
       " 15,\n",
       " 17,\n",
       " 14,\n",
       " 13,\n",
       " 12,\n",
       " 17,\n",
       " 18,\n",
       " 14,\n",
       " 11,\n",
       " 13,\n",
       " 11,\n",
       " 14,\n",
       " 5]"
      ]
     },
     "execution_count": 50,
     "metadata": {},
     "output_type": "execute_result"
    }
   ],
   "source": [
    "uniquecount = []\n",
    "for line in linelst:\n",
    "    uniquecount.append(len(word_freq(line)))\n",
    "uniquecount"
   ]
  },
  {
   "cell_type": "code",
   "execution_count": 52,
   "id": "6b914b07",
   "metadata": {},
   "outputs": [
    {
     "data": {
      "text/html": [
       "<div>\n",
       "<style scoped>\n",
       "    .dataframe tbody tr th:only-of-type {\n",
       "        vertical-align: middle;\n",
       "    }\n",
       "\n",
       "    .dataframe tbody tr th {\n",
       "        vertical-align: top;\n",
       "    }\n",
       "\n",
       "    .dataframe thead th {\n",
       "        text-align: right;\n",
       "    }\n",
       "</style>\n",
       "<table border=\"1\" class=\"dataframe\">\n",
       "  <thead>\n",
       "    <tr style=\"text-align: right;\">\n",
       "      <th></th>\n",
       "      <th>0</th>\n",
       "    </tr>\n",
       "  </thead>\n",
       "  <tbody>\n",
       "    <tr>\n",
       "      <th>0</th>\n",
       "      <td>14</td>\n",
       "    </tr>\n",
       "    <tr>\n",
       "      <th>1</th>\n",
       "      <td>13</td>\n",
       "    </tr>\n",
       "    <tr>\n",
       "      <th>2</th>\n",
       "      <td>13</td>\n",
       "    </tr>\n",
       "    <tr>\n",
       "      <th>3</th>\n",
       "      <td>13</td>\n",
       "    </tr>\n",
       "    <tr>\n",
       "      <th>4</th>\n",
       "      <td>16</td>\n",
       "    </tr>\n",
       "    <tr>\n",
       "      <th>5</th>\n",
       "      <td>13</td>\n",
       "    </tr>\n",
       "    <tr>\n",
       "      <th>6</th>\n",
       "      <td>12</td>\n",
       "    </tr>\n",
       "    <tr>\n",
       "      <th>7</th>\n",
       "      <td>10</td>\n",
       "    </tr>\n",
       "    <tr>\n",
       "      <th>8</th>\n",
       "      <td>14</td>\n",
       "    </tr>\n",
       "    <tr>\n",
       "      <th>9</th>\n",
       "      <td>13</td>\n",
       "    </tr>\n",
       "    <tr>\n",
       "      <th>10</th>\n",
       "      <td>15</td>\n",
       "    </tr>\n",
       "    <tr>\n",
       "      <th>11</th>\n",
       "      <td>17</td>\n",
       "    </tr>\n",
       "    <tr>\n",
       "      <th>12</th>\n",
       "      <td>14</td>\n",
       "    </tr>\n",
       "    <tr>\n",
       "      <th>13</th>\n",
       "      <td>13</td>\n",
       "    </tr>\n",
       "    <tr>\n",
       "      <th>14</th>\n",
       "      <td>12</td>\n",
       "    </tr>\n",
       "    <tr>\n",
       "      <th>15</th>\n",
       "      <td>17</td>\n",
       "    </tr>\n",
       "    <tr>\n",
       "      <th>16</th>\n",
       "      <td>18</td>\n",
       "    </tr>\n",
       "    <tr>\n",
       "      <th>17</th>\n",
       "      <td>14</td>\n",
       "    </tr>\n",
       "    <tr>\n",
       "      <th>18</th>\n",
       "      <td>11</td>\n",
       "    </tr>\n",
       "    <tr>\n",
       "      <th>19</th>\n",
       "      <td>13</td>\n",
       "    </tr>\n",
       "    <tr>\n",
       "      <th>20</th>\n",
       "      <td>11</td>\n",
       "    </tr>\n",
       "    <tr>\n",
       "      <th>21</th>\n",
       "      <td>14</td>\n",
       "    </tr>\n",
       "    <tr>\n",
       "      <th>22</th>\n",
       "      <td>5</td>\n",
       "    </tr>\n",
       "  </tbody>\n",
       "</table>\n",
       "</div>"
      ],
      "text/plain": [
       "     0\n",
       "0   14\n",
       "1   13\n",
       "2   13\n",
       "3   13\n",
       "4   16\n",
       "5   13\n",
       "6   12\n",
       "7   10\n",
       "8   14\n",
       "9   13\n",
       "10  15\n",
       "11  17\n",
       "12  14\n",
       "13  13\n",
       "14  12\n",
       "15  17\n",
       "16  18\n",
       "17  14\n",
       "18  11\n",
       "19  13\n",
       "20  11\n",
       "21  14\n",
       "22   5"
      ]
     },
     "execution_count": 52,
     "metadata": {},
     "output_type": "execute_result"
    }
   ],
   "source": [
    "dataframe = pd.DataFrame(uniquecount)\n",
    "dataframe"
   ]
  },
  {
   "cell_type": "code",
   "execution_count": 53,
   "id": "7a1bf20b",
   "metadata": {},
   "outputs": [],
   "source": [
    "import seaborn as sns"
   ]
  },
  {
   "cell_type": "code",
   "execution_count": 54,
   "id": "dcd1c23b",
   "metadata": {},
   "outputs": [
    {
     "name": "stderr",
     "output_type": "stream",
     "text": [
      "C:\\Users\\User\\anaconda3\\lib\\site-packages\\seaborn\\distributions.py:2619: FutureWarning: `distplot` is a deprecated function and will be removed in a future version. Please adapt your code to use either `displot` (a figure-level function with similar flexibility) or `histplot` (an axes-level function for histograms).\n",
      "  warnings.warn(msg, FutureWarning)\n",
      "C:\\Users\\User\\anaconda3\\lib\\site-packages\\seaborn\\distributions.py:2103: FutureWarning: The `axis` variable is no longer used and will be removed. Instead, assign variables directly to `x` or `y`.\n",
      "  warnings.warn(msg, FutureWarning)\n"
     ]
    },
    {
     "data": {
      "image/png": "[encoded data removed]",
      "text/plain": [
       "<Figure size 432x288 with 1 Axes>"
      ]
     },
     "metadata": {
      "needs_background": "light"
     },
     "output_type": "display_data"
    }
   ],
   "source": [
    "sns.distplot(dataframe, kde=True, rug=True);"
   ]
  },
  {
   "cell_type": "code",
   "execution_count": 57,
   "id": "254eaa77",
   "metadata": {},
   "outputs": [
    {
     "name": "stdout",
     "output_type": "stream",
     "text": [
      "\n",
      "\n",
      "Words : \n",
      "                  term      rank\n",
      "80     data analytics  1.121468\n",
      "79      data analysis  1.074633\n",
      "100  exploratory data  0.509671\n",
      "159    numerical data  0.507052\n",
      "235        themes and  0.500000\n",
      "32         and points  0.500000\n",
      "186         points of  0.500000\n"
     ]
    },
    {
     "name": "stderr",
     "output_type": "stream",
     "text": [
      "C:\\Users\\User\\anaconda3\\lib\\site-packages\\sklearn\\utils\\deprecation.py:87: FutureWarning: Function get_feature_names is deprecated; get_feature_names is deprecated in 1.0 and will be removed in 1.2. Please use get_feature_names_out instead.\n",
      "  warnings.warn(msg, category=FutureWarning)\n"
     ]
    }
   ],
   "source": [
    "vector = CountVectorizer(ngram_range =(2, 2)) \n",
    "X1 = vector.fit_transform(linelst)  \n",
    "feat = (vector.get_feature_names()) \n",
    " \n",
    "vectorizer = TfidfVectorizer(ngram_range = (2, 2)) \n",
    "X2 = vectorizer.fit_transform(line_list) \n",
    "scores = (X2.toarray()) \n",
    "\n",
    "sums = X2.sum(axis = 0) \n",
    "data1 = [] \n",
    "for col, term in enumerate(features): \n",
    "    data1.append( (term, sums[0, col] )) \n",
    "ranking = pd.DataFrame(data1, columns = ['term', 'rank']) \n",
    "w = (ranking.sort_values('rank', ascending = False)) \n",
    "print (\"\\n\\nWords : \\n\", w.head(7)) "
   ]
  },
  {
   "cell_type": "code",
   "execution_count": 73,
   "id": "94f3782d",
   "metadata": {},
   "outputs": [
    {
     "name": "stdout",
     "output_type": "stream",
     "text": [
      "Total Number of times data analytics: 6\n",
      "Total Number of times analytics: 10\n",
      "Probablity of data analytics: 0.6\n"
     ]
    }
   ],
   "source": [
    "import re\n",
    "from collections import Counter\n",
    "words = re.findall('\\w+', text)\n",
    "counts = Counter(zip(words,words[1:]))\n",
    "dataanalytics = counts[(\"data\", \"analytics\")]\n",
    "print(f\"Total Number of times data analytics: {dataanalytics}\")\n",
    "print(f\"Total Number of times analytics: {numberanalytics}\")\n",
    "print(f\"Probablity of data analytics: {dataanalytics/numberanalytics}\")"
   ]
  }
 ],
 "metadata": {
  "kernelspec": {
   "display_name": "Python 3 (ipykernel)",
   "language": "python",
   "name": "python3"
  },
  "language_info": {
   "codemirror_mode": {
    "name": "ipython",
    "version": 3
   },
   "file_extension": ".py",
   "mimetype": "text/x-python",
   "name": "python",
   "nbconvert_exporter": "python",
   "pygments_lexer": "ipython3",
   "version": "3.9.12"
  }
 },
 "nbformat": 4,
 "nbformat_minor": 5
}
